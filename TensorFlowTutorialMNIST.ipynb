{
  "nbformat": 4,
  "nbformat_minor": 0,
  "metadata": {
    "colab": {
      "name": "TensorFlowTutorialMNIST.ipynb",
      "provenance": [],
      "authorship_tag": "ABX9TyMy+65Q+Q7dKh8WnmkmdS7K",
      "include_colab_link": true
    },
    "kernelspec": {
      "name": "python3",
      "display_name": "Python 3"
    }
  },
  "cells": [
    {
      "cell_type": "markdown",
      "metadata": {
        "id": "view-in-github",
        "colab_type": "text"
      },
      "source": [
        "<a href=\"https://colab.research.google.com/github/dogaozgon/tensorflow-tutorial-mnist/blob/main/TensorFlowTutorialMNIST.ipynb\" target=\"_parent\"><img src=\"https://colab.research.google.com/assets/colab-badge.svg\" alt=\"Open In Colab\"/></a>"
      ]
    },
    {
      "cell_type": "code",
      "metadata": {
        "id": "eKp7MJ2azb7p"
      },
      "source": [
        "import tensorflow as tf\n",
        "import matplotlib.pyplot as plt # a common helper library for data visualisation"
      ],
      "execution_count": null,
      "outputs": []
    },
    {
      "cell_type": "code",
      "metadata": {
        "colab": {
          "base_uri": "https://localhost:8080/"
        },
        "id": "Craqcj4czhOe",
        "outputId": "21f1d8d4-28dd-4504-ae3b-160d4ca8c452"
      },
      "source": [
        "# load the data and split the data to training set and test set\n",
        "(train_images, train_labels), (test_images, test_labels) = tf.keras.datasets.mnist.load_data()\n",
        "\n",
        "# scale down the value of the image pixels from 0-255 to 0-1\n",
        "train_images = train_images / 255.0\n",
        "test_images = test_images / 255.0"
      ],
      "execution_count": null,
      "outputs": [
        {
          "output_type": "stream",
          "text": [
            "Downloading data from https://storage.googleapis.com/tensorflow/tf-keras-datasets/mnist.npz\n",
            "11493376/11490434 [==============================] - 0s 0us/step\n"
          ],
          "name": "stdout"
        }
      ]
    },
    {
      "cell_type": "code",
      "metadata": {
        "colab": {
          "base_uri": "https://localhost:8080/",
          "height": 316
        },
        "id": "ZZDQzxV-5Qzu",
        "outputId": "7d1b8e73-903c-4cdb-a6c7-ffd13dda9a1a"
      },
      "source": [
        "# visualize the data a bit (optional)\n",
        "print(train_images.shape)\n",
        "print(test_images.shape)\n",
        "print(train_labels)\n",
        "\n",
        "# display the first digit (optional)\n",
        "plt.imshow(train_images[0], cmap='gray') \n",
        "plt.show()"
      ],
      "execution_count": null,
      "outputs": [
        {
          "output_type": "stream",
          "text": [
            "(60000, 28, 28)\n",
            "(10000, 28, 28)\n",
            "[5 0 4 ... 5 6 8]\n"
          ],
          "name": "stdout"
        },
        {
          "output_type": "display_data",
          "data": {
            "image/png": "[encoded data removed]",
            "text/plain": [
              "<Figure size 432x288 with 1 Axes>"
            ]
          },
          "metadata": {
            "tags": [],
            "needs_background": "light"
          }
        }
      ]
    },
    {
      "cell_type": "code",
      "metadata": {
        "colab": {
          "base_uri": "https://localhost:8080/"
        },
        "id": "7i9jKilP1DQj",
        "outputId": "17958d75-541a-4ab9-948e-27eefea79dfe"
      },
      "source": [
        "# define the model\n",
        "my_model = tf.keras.models.Sequential()\n",
        "my_model.add(tf.keras.layers.Flatten(input_shape=(28, 28)))\n",
        "my_model.add(tf.keras.layers.Dense(128, activation='relu'))\n",
        "my_model.add(tf.keras.layers.Dense(10, activation='softmax'))\n",
        "\n",
        "# compile the model\n",
        "my_model.compile(optimizer='adam', loss='sparse_categorical_crossentropy', metrics=['accuracy'])\n",
        "\n",
        "# train the model\n",
        "my_model.fit(train_images, train_labels, epochs=3)\n",
        "\n",
        "# check the model for accuracy on the test data\n",
        "val_loss, val_acc = my_model.evaluate(test_images, test_labels)\n",
        "print(\"Test accuracy: \", val_acc)"
      ],
      "execution_count": null,
      "outputs": [
        {
          "output_type": "stream",
          "text": [
            "Epoch 1/3\n",
            "1875/1875 [==============================] - 4s 2ms/step - loss: 0.4357 - accuracy: 0.8756\n",
            "Epoch 2/3\n",
            "1875/1875 [==============================] - 3s 2ms/step - loss: 0.1278 - accuracy: 0.9621\n",
            "Epoch 3/3\n",
            "1875/1875 [==============================] - 3s 2ms/step - loss: 0.0823 - accuracy: 0.9761\n",
            "313/313 [==============================] - 0s 994us/step - loss: 0.0817 - accuracy: 0.9742\n",
            "Test accuracy:  0.9742000102996826\n"
          ],
          "name": "stdout"
        }
      ]
    },
    {
      "cell_type": "code",
      "metadata": {
        "colab": {
          "base_uri": "https://localhost:8080/"
        },
        "id": "_NhQX3OhoZel",
        "outputId": "7a66bc50-3e08-4e51-fed2-1c9265edc4a7"
      },
      "source": [
        "# save the model for later use (optional)\n",
        "my_model.save('my_mnist_model')"
      ],
      "execution_count": null,
      "outputs": [
        {
          "output_type": "stream",
          "text": [
            "INFO:tensorflow:Assets written to: my_mnist_model/assets\n"
          ],
          "name": "stdout"
        }
      ]
    },
    {
      "cell_type": "code",
      "metadata": {
        "id": "WPLomQJAthe2"
      },
      "source": [
        "# load the model from file system (optional)\n",
        "my_new_model = tf.keras.models.load_model('my_mnist_model')"
      ],
      "execution_count": null,
      "outputs": []
    },
    {
      "cell_type": "code",
      "metadata": {
        "colab": {
          "base_uri": "https://localhost:8080/"
        },
        "id": "rAkX_2q5uCPn",
        "outputId": "08f29038-102b-4621-c5f1-e822af0280e9"
      },
      "source": [
        "# check the new model for accuracy on the test data (optional)\n",
        "new_val_loss, new_val_acc = my_new_model.evaluate(test_images, test_labels)\n",
        "print(\"New Test accuracy: \", new_val_acc)"
      ],
      "execution_count": null,
      "outputs": [
        {
          "output_type": "stream",
          "text": [
            "313/313 [==============================] - 0s 1ms/step - loss: 0.0817 - accuracy: 0.9742\n",
            "New Test accuracy:  0.9742000102996826\n"
          ],
          "name": "stdout"
        }
      ]
    },
    {
      "cell_type": "code",
      "metadata": {
        "id": "guDiSFFY-T1L"
      },
      "source": [
        "# Congradulations! You have just build, trained and evaluated an \n",
        "# Artificial Neural Network that can recognise hand written digits \n",
        "# with Keras and TensorFlow. I will see you in the next tutorial!"
      ],
      "execution_count": null,
      "outputs": []
    }
  ]
}